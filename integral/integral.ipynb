{
 "cells": [
  {
   "cell_type": "code",
   "execution_count": 42,
   "metadata": {
    "ExecuteTime": {
     "end_time": "2020-11-29T17:00:49.935586Z",
     "start_time": "2020-11-29T17:00:49.927182Z"
    }
   },
   "outputs": [],
   "source": [
    "import numpy as np\n",
    "from matplotlib import pyplot as plt\n",
    "from tqdm import tqdm\n",
    "import os\n",
    "\n",
    "from typing import Callable"
   ]
  },
  {
   "cell_type": "markdown",
   "metadata": {},
   "source": [
    "# Study an integral\n",
    "* <big> $ S = \\displaystyle \\int_a^b  \\displaystyle \\frac{1}{\\sqrt{1 + x^2}} \\, dx$ </big>, where $a = 5$ and $b = 7$\n",
    "1. Compute analytically the value of $S$\n",
    "2. Provide a parallel numerical computation of the integral $S$ using, for example, the trapezoidal approximation $\\displaystyle \\int_{a}^{b} f(x) \\approx S_D = \\displaystyle \\sum_{k = 1}^{N-1} \\displaystyle \\frac{f\\left(a + k \\,\\tau\\right)+ f\\left(a + \\left(k - 1\\right) \\tau\\right) }{2}\\,\\,\\tau$, where $ a + (N - 1)\\tau = b$\n",
    "  * The number of MPI processes $n_p$ does not depend on the number of discretization points $N$, i.e., $n_p \\ne N$ in general. \n",
    "  * Use <strong>Reduce </strong> function of <i>mpi4py </i> to sum across processes.\n",
    "3. Plot the speedup $s(n_p)$ for a parallel version of program for different number of processes $n_p$. The speedup is determined by $s(n_p) = \\displaystyle \\frac{t_p(n_p)}{t_s}$, where $t_s$ and $t_p(n_p)$ are computational times of sequential and parallel versions of program.\n",
    "4. Plot the error value $e(\\tau) = |S_D(\\tau) - S| $ versus discretization step graph $\\tau$ by varying number of discretization steps $N$."
   ]
  },
  {
   "cell_type": "markdown",
   "metadata": {},
   "source": [
    "## Analytical result"
   ]
  },
  {
   "cell_type": "markdown",
   "metadata": {},
   "source": [
    "By substitution $x = \\sinh{t}$, we have\n",
    "\n",
    "$\\int f(x) = \\int\\frac{\\cosh{t}dt}{\\sqrt{1+\\sinh^2{t}}} = \\int \\frac{\\cosh{t}dt}{\\cosh{t}} = \\int 1 dt = \\text{ arsinh}{x} + c = \\ln\\left(x + \\sqrt{x^2 + 1}\\right) +c$"
   ]
  },
  {
   "cell_type": "code",
   "execution_count": 2,
   "metadata": {
    "ExecuteTime": {
     "end_time": "2020-11-29T16:05:27.690213Z",
     "start_time": "2020-11-29T16:05:27.680775Z"
    }
   },
   "outputs": [],
   "source": [
    "def calc_true_integral_value(a: int, b: int) -> float:\n",
    "    def func(x):\n",
    "        return np.log(x + (x**2 + 1)**(1 / 2))\n",
    "    \n",
    "    return func(b) - func(a)"
   ]
  },
  {
   "cell_type": "code",
   "execution_count": 3,
   "metadata": {
    "ExecuteTime": {
     "end_time": "2020-11-29T16:05:28.851512Z",
     "start_time": "2020-11-29T16:05:28.841085Z"
    }
   },
   "outputs": [
    {
     "data": {
      "text/plain": [
       "0.33168241978587654"
      ]
     },
     "execution_count": 3,
     "metadata": {},
     "output_type": "execute_result"
    }
   ],
   "source": [
    "calc_true_integral_value(5, 7)"
   ]
  },
  {
   "cell_type": "markdown",
   "metadata": {},
   "source": [
    "## Approximation"
   ]
  },
  {
   "cell_type": "code",
   "execution_count": 4,
   "metadata": {
    "ExecuteTime": {
     "end_time": "2020-11-29T16:05:30.093821Z",
     "start_time": "2020-11-29T16:05:30.047914Z"
    }
   },
   "outputs": [],
   "source": [
    "def calc_inner_func(x: float) -> float:\n",
    "    return 1 / (1 + x**2)**(1 / 2)\n",
    "\n",
    "def calc_trapezoid(inner_func: Callable[[float], float], a: int, b: int, num_discr_points : int = 1) -> float:\n",
    "\n",
    "    delta = (b - a) / num_discr_points\n",
    "    \n",
    "    # define approximation for zero and last iterations (points a and b)\n",
    "    approximation = inner_func(a) + inner_func(b)\n",
    "    \n",
    "    for i in range(1, num_discr_points):\n",
    "        approximation += 2 * inner_func(a + delta * i)\n",
    "        \n",
    "    return approximation * delta / 2"
   ]
  },
  {
   "cell_type": "code",
   "execution_count": 40,
   "metadata": {
    "ExecuteTime": {
     "end_time": "2020-11-29T16:58:16.675951Z",
     "start_time": "2020-11-29T16:58:16.657918Z"
    }
   },
   "outputs": [
    {
     "data": {
      "text/plain": [
       "0.33168242575775947"
      ]
     },
     "execution_count": 40,
     "metadata": {},
     "output_type": "execute_result"
    }
   ],
   "source": [
    "calc_trapezoid(calc_inner_func, 5, 7, 1000)"
   ]
  },
  {
   "cell_type": "markdown",
   "metadata": {},
   "source": [
    "The approximation and analytical values are close, this is a good sign :)"
   ]
  },
  {
   "cell_type": "markdown",
   "metadata": {},
   "source": [
    "## Integration error vs number of points"
   ]
  },
  {
   "cell_type": "code",
   "execution_count": 6,
   "metadata": {
    "ExecuteTime": {
     "end_time": "2020-11-29T16:05:32.139115Z",
     "start_time": "2020-11-29T16:05:32.135701Z"
    }
   },
   "outputs": [],
   "source": [
    "points = np.arange(1, 100000, 1000)"
   ]
  },
  {
   "cell_type": "code",
   "execution_count": 7,
   "metadata": {
    "ExecuteTime": {
     "end_time": "2020-11-29T16:05:48.353450Z",
     "start_time": "2020-11-29T16:05:40.748389Z"
    }
   },
   "outputs": [
    {
     "name": "stderr",
     "output_type": "stream",
     "text": [
      "100%|██████████| 100/100 [00:07<00:00,  6.92it/s]\n"
     ]
    }
   ],
   "source": [
    "diffs = []\n",
    "for num_points in tqdm(points):\n",
    "    diff = abs(calc_true_integral_value(5, 7) - calc_trapezoid(calc_inner_func, 5, 7, num_points))\n",
    "    diffs.append(diff)          "
   ]
  },
  {
   "cell_type": "markdown",
   "metadata": {},
   "source": [
    "For better visual representation we will plot errors in log scale"
   ]
  },
  {
   "cell_type": "code",
   "execution_count": 8,
   "metadata": {
    "ExecuteTime": {
     "end_time": "2020-11-29T16:05:49.339531Z",
     "start_time": "2020-11-29T16:05:49.045427Z"
    }
   },
   "outputs": [
    {
     "data": {
      "image/png": "[encoded data removed]",
      "text/plain": [
       "<Figure size 720x576 with 1 Axes>"
      ]
     },
     "metadata": {
      "needs_background": "light"
     },
     "output_type": "display_data"
    }
   ],
   "source": [
    "fig, ax = plt.subplots(1, 1, figsize=(10, 8))\n",
    "\n",
    "ax.plot(points, np.log10(diffs))\n",
    "ax.grid()\n",
    "ax.set_xlabel('# discr. points')\n",
    "ax.set_ylabel('error, log10')\n",
    "ax.set_title('Decimal logarithm of approximation errors on discretization strength')\n",
    "\n",
    "fig.savefig('integral_error.png')"
   ]
  },
  {
   "cell_type": "markdown",
   "metadata": {},
   "source": [
    "## Show speedup"
   ]
  },
  {
   "cell_type": "code",
   "execution_count": 47,
   "metadata": {
    "ExecuteTime": {
     "end_time": "2020-11-29T18:24:37.887207Z",
     "start_time": "2020-11-29T18:23:43.228033Z"
    }
   },
   "outputs": [
    {
     "name": "stderr",
     "output_type": "stream",
     "text": [
      "100%|██████████| 12/12 [00:54<00:00,  5.88s/it]\n"
     ]
    }
   ],
   "source": [
    "if os.path.exists('times'):\n",
    "    os.remove('times')\n",
    "for i in tqdm(range(1, 13)):\n",
    "    os.system(f'mpirun -n {i} python mpi_integral.py --return_time -n_discr_points=10000000')"
   ]
  },
  {
   "cell_type": "code",
   "execution_count": 48,
   "metadata": {
    "ExecuteTime": {
     "end_time": "2020-11-29T18:24:42.531352Z",
     "start_time": "2020-11-29T18:24:42.524140Z"
    }
   },
   "outputs": [
    {
     "data": {
      "text/plain": [
       "{1: 3.46,\n",
       " 2: 1.7211,\n",
       " 3: 1.2351,\n",
       " 4: 0.9371,\n",
       " 5: 1.5471,\n",
       " 6: 2.0229,\n",
       " 7: 1.7239,\n",
       " 8: 1.6362,\n",
       " 9: 1.7475,\n",
       " 10: 1.9025,\n",
       " 11: 1.9816,\n",
       " 12: 1.7708}"
      ]
     },
     "execution_count": 48,
     "metadata": {},
     "output_type": "execute_result"
    }
   ],
   "source": [
    "proc_times = {}\n",
    "\n",
    "with open('times', 'r') as f:\n",
    "    for line in f.readlines():\n",
    "        proc, times = line.strip().split()\n",
    "        proc_times[int(proc)] = float(times)\n",
    "\n",
    "initial_time = proc_times[1]\n",
    "proc_times"
   ]
  },
  {
   "cell_type": "code",
   "execution_count": 49,
   "metadata": {
    "ExecuteTime": {
     "end_time": "2020-11-29T18:24:49.853852Z",
     "start_time": "2020-11-29T18:24:49.563256Z"
    }
   },
   "outputs": [
    {
     "data": {
      "image/png": "[encoded data removed]",
      "text/plain": [
       "<Figure size 720x576 with 1 Axes>"
      ]
     },
     "metadata": {
      "needs_background": "light"
     },
     "output_type": "display_data"
    }
   ],
   "source": [
    "fig, ax = plt.subplots(1, 1, figsize=(10, 8))\n",
    "\n",
    "for n_proc, time in proc_times.items():\n",
    "    ax.scatter(n_proc, initial_time / time)\n",
    "\n",
    "ax.grid()\n",
    "ax.set_xlabel('n_processes')\n",
    "ax.set_ylabel('speedup')\n",
    "\n",
    "fig.savefig('speedup.png')"
   ]
  },
  {
   "cell_type": "code",
   "execution_count": null,
   "metadata": {},
   "outputs": [],
   "source": []
  }
 ],
 "metadata": {
  "kernelspec": {
   "display_name": "Python 3",
   "language": "python",
   "name": "python3"
  },
  "language_info": {
   "codemirror_mode": {
    "name": "ipython",
    "version": 3
   },
   "file_extension": ".py",
   "mimetype": "text/x-python",
   "name": "python",
   "nbconvert_exporter": "python",
   "pygments_lexer": "ipython3",
   "version": "3.7.5"
  },
  "latex_envs": {
   "LaTeX_envs_menu_present": true,
   "autoclose": false,
   "autocomplete": true,
   "bibliofile": "biblio.bib",
   "cite_by": "apalike",
   "current_citInitial": 1,
   "eqLabelWithNumbers": true,
   "eqNumInitial": 1,
   "hotkeys": {
    "equation": "Ctrl-E",
    "itemize": "Ctrl-I"
   },
   "labels_anchors": false,
   "latex_user_defs": false,
   "report_style_numbering": false,
   "user_envs_cfg": false
  },
  "toc": {
   "base_numbering": 1,
   "nav_menu": {},
   "number_sections": true,
   "sideBar": true,
   "skip_h1_title": false,
   "title_cell": "Table of Contents",
   "title_sidebar": "Contents",
   "toc_cell": false,
   "toc_position": {},
   "toc_section_display": true,
   "toc_window_display": false
  }
 },
 "nbformat": 4,
 "nbformat_minor": 2
}
