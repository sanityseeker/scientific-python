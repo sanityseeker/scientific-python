{
 "cells": [
  {
   "cell_type": "code",
   "execution_count": 153,
   "metadata": {
    "ExecuteTime": {
     "end_time": "2020-12-17T03:36:19.216250Z",
     "start_time": "2020-12-17T03:36:19.202714Z"
    }
   },
   "outputs": [],
   "source": [
    "from numba import jit\n",
    "import numpy as np\n",
    "import time\n",
    "import os\n",
    "\n",
    "from tqdm.notebook import tqdm\n",
    "from typing import List, Union, Iterable"
   ]
  },
  {
   "cell_type": "markdown",
   "metadata": {},
   "source": [
    "# Single version"
   ]
  },
  {
   "cell_type": "markdown",
   "metadata": {},
   "source": [
    "**Recursive version**"
   ]
  },
  {
   "cell_type": "code",
   "execution_count": 112,
   "metadata": {
    "ExecuteTime": {
     "end_time": "2020-12-16T21:39:25.145809Z",
     "start_time": "2020-12-16T21:39:25.133092Z"
    }
   },
   "outputs": [],
   "source": [
    "# all ooperations are done inplace, not very pythonic but more effective in terms of memory\n",
    "\n",
    "def merge_bitonic_parts(array: Iterable[float], start_index: int, num_elements_to_sort: int, ascending: bool = True):\n",
    "    if num_elements_to_sort > 1:\n",
    "        \n",
    "        direction = 1 if ascending else -1    \n",
    "        mid_index = num_elements_to_sort // 2\n",
    "        \n",
    "        for i in range(start_index, start_index + mid_index):\n",
    "            # swap elements if condition reached\n",
    "            index_left = i\n",
    "            index_right = i + mid_index\n",
    "#             print(array[index_left], array[index_right], direction, (direction * array[index_left]) > array[index_right])\n",
    "            if direction * array[index_left] > direction * array[index_right]:\n",
    "                array[index_left], array[index_right] = array[index_right], array[index_left]\n",
    "\n",
    "        merge_bitonic_parts(array, start_index, mid_index, ascending)\n",
    "        merge_bitonic_parts(array, start_index + mid_index, mid_index, ascending)\n",
    "\n",
    "\n",
    "def do_bitonic_sort(array: Iterable[float], start_index: int = 0, num_elements_to_sort: int = -1, ascending: bool = True):\n",
    "    num_elements_to_sort = len(array) if num_elements_to_sort == -1 else num_elements_to_sort\n",
    "    \n",
    "    if num_elements_to_sort > 1:\n",
    "        \n",
    "        mid_index = num_elements_to_sort // 2\n",
    "\n",
    "        do_bitonic_sort(array, start_index, mid_index, ascending)\n",
    "        do_bitonic_sort(array, start_index + mid_index, mid_index, not ascending)\n",
    "\n",
    "        merge_bitonic_parts(array, start_index, num_elements_to_sort, ascending)"
   ]
  },
  {
   "cell_type": "code",
   "execution_count": 122,
   "metadata": {
    "ExecuteTime": {
     "end_time": "2020-12-16T21:47:37.558682Z",
     "start_time": "2020-12-16T21:44:41.347347Z"
    }
   },
   "outputs": [
    {
     "data": {
      "application/vnd.jupyter.widget-view+json": {
       "model_id": "457e06ff6ecf42558c8f3ad7a513cfae",
       "version_major": 2,
       "version_minor": 0
      },
      "text/plain": [
       "HBox(children=(HTML(value=''), FloatProgress(value=0.0, max=2.0), HTML(value='')))"
      ]
     },
     "metadata": {},
     "output_type": "display_data"
    },
    {
     "name": "stdout",
     "output_type": "stream",
     "text": [
      "\n"
     ]
    }
   ],
   "source": [
    "from math import ceil\n",
    "\n",
    "sizes = [10**5, 10**6]\n",
    "\n",
    "times_single = []\n",
    "\n",
    "for size in tqdm(sizes):\n",
    "    n = ceil(np.log2(size))\n",
    "    \n",
    "    arr = np.random.randn(2**n)\n",
    "    arr_copy = arr.copy()\n",
    "    \n",
    "    start = time.time()\n",
    "    do_bitonic_sort(arr_copy)\n",
    "    times_single.append(time.time() - start)\n",
    "    \n",
    "    assert np.allclose(arr_copy, sorted(arr))"
   ]
  },
  {
   "cell_type": "markdown",
   "metadata": {},
   "source": [
    "# Multiprocess version"
   ]
  },
  {
   "cell_type": "code",
   "execution_count": 154,
   "metadata": {
    "ExecuteTime": {
     "end_time": "2020-12-17T03:36:28.814484Z",
     "start_time": "2020-12-17T03:36:21.170450Z"
    }
   },
   "outputs": [],
   "source": [
    "if os.path.exists('times'):\n",
    "    os.remove('times')\n",
    "    \n",
    "sizes = [10**5, 10**6]\n",
    "for size in sizes:\n",
    "    print(size)\n",
    "    n = ceil(np.log2(size))\n",
    "    for n_processes in tqdm([1, 2, 4, 8, 16]):\n",
    "        os.system(f'mpirun -n {n_processes} python mpi_bitonic_sort.py --return_time -n={n}')"
   ]
  },
  {
   "cell_type": "code",
   "execution_count": null,
   "metadata": {},
   "outputs": [],
   "source": [
    "proc_times = defaultdict{dict}\n",
    "\n",
    "with open('times', 'r') as f:\n",
    "    for line in f.readlines():\n",
    "        size, proc, times = line.strip().split()\n",
    "        proc_times[int(size)][int(proc)] = float(times)"
   ]
  }
 ],
 "metadata": {
  "kernelspec": {
   "display_name": "Python 3",
   "language": "python",
   "name": "python3"
  },
  "language_info": {
   "codemirror_mode": {
    "name": "ipython",
    "version": 3
   },
   "file_extension": ".py",
   "mimetype": "text/x-python",
   "name": "python",
   "nbconvert_exporter": "python",
   "pygments_lexer": "ipython3",
   "version": "3.7.5"
  },
  "latex_envs": {
   "LaTeX_envs_menu_present": true,
   "autoclose": false,
   "autocomplete": true,
   "bibliofile": "biblio.bib",
   "cite_by": "apalike",
   "current_citInitial": 1,
   "eqLabelWithNumbers": true,
   "eqNumInitial": 1,
   "hotkeys": {
    "equation": "Ctrl-E",
    "itemize": "Ctrl-I"
   },
   "labels_anchors": false,
   "latex_user_defs": false,
   "report_style_numbering": false,
   "user_envs_cfg": false
  },
  "toc": {
   "base_numbering": 1,
   "nav_menu": {},
   "number_sections": true,
   "sideBar": true,
   "skip_h1_title": false,
   "title_cell": "Table of Contents",
   "title_sidebar": "Contents",
   "toc_cell": false,
   "toc_position": {},
   "toc_section_display": true,
   "toc_window_display": false
  }
 },
 "nbformat": 4,
 "nbformat_minor": 2
}
