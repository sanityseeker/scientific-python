{
 "cells": [
  {
   "cell_type": "code",
   "execution_count": 1,
   "metadata": {
    "ExecuteTime": {
     "end_time": "2020-12-01T15:19:49.387814Z",
     "start_time": "2020-12-01T15:19:49.062795Z"
    }
   },
   "outputs": [],
   "source": [
    "import math, cmath\n",
    "import os\n",
    "from typing import Optional, Tuple, Union\n",
    "\n",
    "from matplotlib import pyplot as plt\n",
    "from tqdm import tqdm_notebook\n",
    "import numpy as np\n",
    "\n",
    "%matplotlib inline"
   ]
  },
  {
   "cell_type": "markdown",
   "metadata": {},
   "source": [
    "##  Parallel Bifurcation"
   ]
  },
  {
   "cell_type": "markdown",
   "metadata": {},
   "source": [
    "Run experiments with different number of processes. Use larger number of iterations to better speedup estimations."
   ]
  },
  {
   "cell_type": "code",
   "execution_count": 55,
   "metadata": {
    "ExecuteTime": {
     "end_time": "2020-11-22T19:07:50.913507Z",
     "start_time": "2020-11-22T19:06:18.465104Z"
    },
    "scrolled": true
   },
   "outputs": [
    {
     "data": {
      "application/vnd.jupyter.widget-view+json": {
       "model_id": "4b7e3e5366394ec78d94a15e8f89ce5a",
       "version_major": 2,
       "version_minor": 0
      },
      "text/plain": [
       "HBox(children=(IntProgress(value=0, max=12), HTML(value='')))"
      ]
     },
     "metadata": {},
     "output_type": "display_data"
    },
    {
     "name": "stdout",
     "output_type": "stream",
     "text": [
      "\n"
     ]
    }
   ],
   "source": [
    "if os.path.exists('times'):\n",
    "    os.remove('times')\n",
    "for i in tqdm_notebook(range(1, 13)):\n",
    "    os.system(f'mpirun -n {i} python parallel_bifurcation.py --return_time -n_rs=16000')"
   ]
  },
  {
   "cell_type": "markdown",
   "metadata": {},
   "source": [
    "Gather information about calculation times"
   ]
  },
  {
   "cell_type": "code",
   "execution_count": 56,
   "metadata": {
    "ExecuteTime": {
     "end_time": "2020-11-22T19:07:52.712908Z",
     "start_time": "2020-11-22T19:07:52.708748Z"
    }
   },
   "outputs": [],
   "source": [
    "proc_times = {}\n",
    "\n",
    "with open('times', 'r') as f:\n",
    "    for line in f.readlines():\n",
    "        proc, times = line.strip().split()\n",
    "        proc_times[int(proc)] = float(times)"
   ]
  },
  {
   "cell_type": "code",
   "execution_count": 57,
   "metadata": {
    "ExecuteTime": {
     "end_time": "2020-11-22T19:07:55.363516Z",
     "start_time": "2020-11-22T19:07:55.358691Z"
    }
   },
   "outputs": [
    {
     "data": {
      "text/plain": [
       "{1: 8.6507,\n",
       " 2: 4.4609,\n",
       " 3: 3.2257,\n",
       " 4: 3.9644,\n",
       " 5: 6.0951,\n",
       " 6: 5.2229,\n",
       " 7: 4.6504,\n",
       " 8: 4.3121,\n",
       " 9: 4.3952,\n",
       " 10: 4.7568,\n",
       " 11: 5.2556,\n",
       " 12: 4.5202}"
      ]
     },
     "execution_count": 57,
     "metadata": {},
     "output_type": "execute_result"
    }
   ],
   "source": [
    "initial_time = proc_times[1]\n",
    "proc_times"
   ]
  },
  {
   "cell_type": "markdown",
   "metadata": {},
   "source": [
    "Show the speedup"
   ]
  },
  {
   "cell_type": "code",
   "execution_count": 58,
   "metadata": {
    "ExecuteTime": {
     "end_time": "2020-11-22T19:08:16.421318Z",
     "start_time": "2020-11-22T19:08:16.126068Z"
    }
   },
   "outputs": [
    {
     "data": {
      "image/png": "[encoded data removed]",
      "text/plain": [
       "<Figure size 720x576 with 1 Axes>"
      ]
     },
     "metadata": {
      "needs_background": "light"
     },
     "output_type": "display_data"
    }
   ],
   "source": [
    "fig, ax = plt.subplots(1, 1, figsize=(10, 8))\n",
    "\n",
    "for n_proc, time in proc_times.items():\n",
    "    ax.scatter(n_proc, initial_time / time)\n",
    "\n",
    "ax.grid()\n",
    "ax.set_xlabel('n_processes')\n",
    "ax.set_ylabel('speedup')\n",
    "\n",
    "fig.savefig('img/speedup.png')"
   ]
  },
  {
   "cell_type": "markdown",
   "metadata": {},
   "source": [
    "Show that graph is calculated correctly. The script will save the bifurcation map to \"plot_(n_processes).png\". "
   ]
  },
  {
   "cell_type": "code",
   "execution_count": 59,
   "metadata": {
    "ExecuteTime": {
     "end_time": "2020-11-22T19:09:03.954762Z",
     "start_time": "2020-11-22T19:08:31.661535Z"
    }
   },
   "outputs": [
    {
     "data": {
      "text/plain": [
       "0"
      ]
     },
     "execution_count": 59,
     "metadata": {},
     "output_type": "execute_result"
    }
   ],
   "source": [
    "test_n_processes = 4\n",
    "os.system(f'mpirun -n {test_n_processes} python parallel_bifurcation.py --compute_graph -n_rs=4000')"
   ]
  }
 ],
 "metadata": {
  "kernelspec": {
   "display_name": "Python 3 (ipykernel)",
   "language": "python",
   "name": "python3"
  },
  "language_info": {
   "codemirror_mode": {
    "name": "ipython",
    "version": 3
   },
   "file_extension": ".py",
   "mimetype": "text/x-python",
   "name": "python",
   "nbconvert_exporter": "python",
   "pygments_lexer": "ipython3",
   "version": "3.9.12"
  },
  "latex_envs": {
   "LaTeX_envs_menu_present": true,
   "autoclose": false,
   "autocomplete": true,
   "bibliofile": "biblio.bib",
   "cite_by": "apalike",
   "current_citInitial": 1,
   "eqLabelWithNumbers": true,
   "eqNumInitial": 1,
   "hotkeys": {
    "equation": "Ctrl-E",
    "itemize": "Ctrl-I"
   },
   "labels_anchors": false,
   "latex_user_defs": false,
   "report_style_numbering": false,
   "user_envs_cfg": false
  },
  "toc": {
   "base_numbering": 1,
   "nav_menu": {},
   "number_sections": true,
   "sideBar": true,
   "skip_h1_title": false,
   "title_cell": "Table of Contents",
   "title_sidebar": "Contents",
   "toc_cell": false,
   "toc_position": {},
   "toc_section_display": true,
   "toc_window_display": false
  },
  "vscode": {
   "interpreter": {
    "hash": "916dbcbb3f70747c44a77c7bcd40155683ae19c65e1c03b4aa3499c5328201f1"
   }
  }
 },
 "nbformat": 4,
 "nbformat_minor": 4
}
